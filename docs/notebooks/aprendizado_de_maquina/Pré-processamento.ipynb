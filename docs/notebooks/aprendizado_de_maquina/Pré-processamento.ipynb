{
 "cells": [
  {
   "cell_type": "markdown",
   "metadata": {},
   "source": [
    "# Pré-processamento\n",
    "\n",
    "O pré-processamento é um tópico que necessita de ser aprofundado à parte. Mesmo assim, é importante discutir o valor dele no início desse trabalho com o conjunto de dados. \n",
    "\n",
    "Nesse exemplo, temos uma quantidade pequena de registros para uma apresentação, Porém, nem sempre é assim que os cojuntos estão. Muitas vezes é possível ter milhões ou milhares de registros.\n",
    "\n",
    "Com uma quantidade tão imensa de dados, é preciso ter inteligência quando os mesmos forem passados para o treino.\n",
    "\n",
    "Exemplo: O nome e o id de cada paciente de nada influencia o resultado do seu diagnóstico. Assim, os mesmos podem ser ignorados tanto pelo motivo de economizar espaço e ganhar velocidade quanto para não gerar correlações erradas (como descobrir que 90% dos Joãos podem estar doentes, mesmo sabendo que adoecer não tem uma influência direta do nome do paciente).\n",
    "\n",
    "|<span style= 'background:#5bc0de'>Id.</span> \t|<span style= 'background:#5bc0de'>Nome</span> \t|Idade \t\t|Sexo\t\t|Peso \t\t|Manchas \t\t|Temp. \t|# Int. \t|Est.\t|Diagnóstico\n",
    "|-|-|-|-|-|-|-|-|-|-|\n",
    "|<span style= 'background:#5bc0de'>4201</span> \t|<span style= 'background:#5bc0de'>Igor</span>\t\t|28 \t\t|M \t\t|79 \t\t|Concentradas \t|38.0 \t\t|2 \t|SP \t|Doente\n",
    "|<span style= 'background:#5bc0de'>3217</span> \t|<span style= 'background:#5bc0de'>Moutinha</span>\t|18 \t\t|F \t\t|67 \t\t|Inexistentes \t|39.5 \t\t|4\t|MG \t|Doente\n",
    "|<span style= 'background:#5bc0de'>4039</span> \t|<span style= 'background:#5bc0de'>Perot</span>\t\t|49 \t\t|M \t\t|92 \t\t|Espalhadas \t|38.0 \t\t|2 \t|RS \t|Saudável\n",
    "|<span style= 'background:#5bc0de'>1920</span> \t|<span style= 'background:#5bc0de'>Tonin</span>\t\t|18 \t\t|M \t\t|43 \t\t|Inexistentes \t|38.5\t\t|8 \t|MG \t|Doente\n",
    "|<span style= 'background:#5bc0de'>4340</span> \t|<span style= 'background:#5bc0de'>Tuzinha</span>\t|21 \t\t|F \t\t|52 \t\t|Uniformes \t\t|37.6 \t\t|1 \t|PE \t|Saudável\n",
    "|<span style= 'background:#5bc0de'>2301</span> \t|<span style= 'background:#5bc0de'>Icara</span>\t\t|22\t\t    |F \t\t|<span style= 'background:#5bc0de'>?</span>\t\t    |Inexistentes \t|38.0 \t\t|3 \t|RJ \t| Doente\n",
    "|<span style= 'background:#5bc0de'>1322</span>\t|<span style= 'background:#5bc0de'>Vitinha</span>\t|19 \t\t|F \t\t|87 \t\t|Espalhadas \t|39.0 \t\t|6\t|AM \t|Doente\n",
    "|<span style= 'background:#5bc0de'>3027</span> \t|<span style= 'background:#5bc0de'>Gabriel</span>\t|34\t        |M \t\t|67 \t\t|Uniformes \t\t|38.4 \t\t|2 \t|GO \t|Saudável\n",
    "\n",
    "Outros fatores importantes para o pré-processamento:\n",
    "\n",
    "```diff\n",
    "- COLOCAR DADOS DO SEGUNDO SLIDE \n",
    " dados faltantes\n",
    "```\n"
   ]
  }
 ],
 "metadata": {
  "kernelspec": {
   "display_name": "Python 3",
   "language": "python",
   "name": "python3"
  },
  "language_info": {
   "codemirror_mode": {
    "name": "ipython",
    "version": 3
   },
   "file_extension": ".py",
   "mimetype": "text/x-python",
   "name": "python",
   "nbconvert_exporter": "python",
   "pygments_lexer": "ipython3",
   "version": "3.7.3"
  }
 },
 "nbformat": 4,
 "nbformat_minor": 2
}
