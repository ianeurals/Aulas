{
 "cells": [
  {
   "cell_type": "markdown",
   "metadata": {},
   "source": [
    "# Pré-processamento\n"
   ]
  },
  {
   "cell_type": "markdown",
   "metadata": {},
   "source": [
    "- Facilita o posterior uso de algoritmos de aprendizado de máquina;\n",
    "- Adequa os dados para serem consumidos pela técnica escolhida;\n",
    "- Ajuda a obter modelos mais fiéis à distribuição dos dados;\n",
    "- Melhora a qualidade dos modelos;\n",
    "- Reduz a complexidade de tempo e custo;\n",
    "- Torna mais fáceis e rápidos ajustes de parâmetros;\n",
    "- Facilita a interpretação dos padrões extraídos;\n",
    "- Visa minimizar ou eliminar qualquer problema que o conjunto possa ter;"
   ]
  },
  {
   "cell_type": "markdown",
   "metadata": {},
   "source": [
    "O pré-processamento é um tópico que necessita de ser aprofundado à parte. Aqui se encontra o maior gargalo dentro dos projetos de aprendizado de máquina.\n",
    "\n",
    "Nesse exemplo abaixo, temos uma quantidade pequena de registros para uma apresentação, Porém, nem sempre é assim que os cojuntos estão. Muitas vezes é possível ter um número altíssimo de registros.\n",
    "\n",
    "Para uma quantidade imensa de dados, é preciso ter inteligência quando os mesmos forem passados para o treino, pois o desempenho dos algoritmos de aprendizado de máquina é afetado pela qualidade dos dados impostos."
   ]
  },
  {
   "cell_type": "markdown",
   "metadata": {},
   "source": [
    "**Exemplo:** O nome e o id de cada paciente de nada influencia o resultado do seu diagnóstico. Assim, os mesmos podem ser ignorados tanto pelo motivo de economizar espaço e ganhar velocidade quanto para não gerar correlações erradas (como descobrir que 90% dos Joãos podem estar doentes, mesmo sabendo que adoecer não tem uma influência direta do nome do paciente)."
   ]
  },
  {
   "cell_type": "markdown",
   "metadata": {},
   "source": [
    "![limpeza](./images/limpeza.png)"
   ]
  },
  {
   "cell_type": "markdown",
   "metadata": {},
   "source": [
    "Dados faltantes podem se tornar um outro problema quando o assunto é treino. Existem algumas maneiras de burlar problemas do tipo, onde os mesmo serão citados nesse notebook."
   ]
  },
  {
   "cell_type": "markdown",
   "metadata": {},
   "source": [
    "Recapitulando sobre conjunto de dados: \"os conjuntos podem diferir entre características, dimensões e formatos:\n",
    "   - Pode ser composto por números o símbolos;\n",
    "   - Pode ou não conter ruídos, erros, inconsistências, duplicações e dados ausentes;\n",
    "   - Pode ter atributos que podem ou não se relacionar;\n",
    "   - Pode ser comprido (muitas colunas, atributos) ou largo (muitas amostras).\""
   ]
  },
  {
   "cell_type": "markdown",
   "metadata": {},
   "source": [
    "## Grupos de tarefas"
   ]
  },
  {
   "cell_type": "markdown",
   "metadata": {},
   "source": [
    "Existem algumas tarefas que são categorizadas como pré-processamento. Não necessariamente precisam seguir a ordem dos tópicos durante a aplicação, mas são importantes como um checklist antes de enviar os dados para o algoritmo:"
   ]
  },
  {
   "cell_type": "markdown",
   "metadata": {},
   "source": [
    "### Eliminação manual de atributos"
   ]
  },
  {
   "cell_type": "markdown",
   "metadata": {},
   "source": [
    "Excluir colunas que não são importantes para a solução do problema. Algumas dessas colunas podem parecer óbvias, porém outras podem enganar parecendo ser importantes mas que não alteram o resultado final. Existem técnicas para seleção de atributos que auxiliam na identificação dessas.\n",
    "- **Exemplo:** O nome e ID dos pacientes de nada interfere no diagnostico do mesmo."
   ]
  },
  {
   "cell_type": "markdown",
   "metadata": {},
   "source": [
    "### Integração de dados"
   ]
  },
  {
   "cell_type": "markdown",
   "metadata": {},
   "source": [
    "Os dados necessários para solucionar o problema podem estar em fontes de dados diferentes. Isso pode trazer inconsistências e rendundâncias;\n",
    "- **Exemplo:** A coluna com o estado onde mora o paciente é necessária para verificar um surto de alguma doença dentro de uma região, mas o banco de dados do hospital apenas continha os dados referentes aos sintomas. Um segundo banco de dados foi necessário ser cruzado com o primeiro para adquirir tais informações, mas com ela foi possível descobrir que um paciente foi duplicado. Essa integração é feita sempre partindo de um dos valor em comum entre os dois bancos."
   ]
  },
  {
   "cell_type": "markdown",
   "metadata": {},
   "source": [
    "### Amostragem de dados e redução de dimensionalidade"
   ]
  },
  {
   "cell_type": "markdown",
   "metadata": {},
   "source": [
    "Os algoritmos de aprendizado de máquina podem ter dificuldade para lidar com uma grande quantidade de dados (conjuntos *wide* ou *long*). Pode surgir problemas com uso excessivo de memória e custo computacional alto para ajustar parâmetros do modelo (claro que quanto mais dados, melhor pode ser a acurácia do modelo, por isso, é necessário a busca entre um meio eficiente e acurado). \n",
    "\n",
    "A amostragem de dados resultante deve ser representativa (ou seja, ter valores próximos aos dados originais, fornecer estimativas que refletem a população original e seu uso deve permitir a conclusão do todo a partir de uma parte)."
   ]
  },
  {
   "cell_type": "markdown",
   "metadata": {},
   "source": [
    "#### Técnicas de amostragem\n",
    "\n",
    "- **Amostragem aleatória simples:**  Com ou sem reposição de exemplos;\n",
    "- **Amostragem estratificada:** Mantém o mesmo número de objetos de cada classe ou mantém proporcional aos dados originais. Usado quando as classes têm números de objetos diferentes;\n",
    "- **Amostragem progressiva** Usa uma amostra pequena que cresce enquanto a acurácia preditiva continuar melhorando."
   ]
  },
  {
   "cell_type": "markdown",
   "metadata": {},
   "source": [
    "### Balanceamento de dados"
   ]
  },
  {
   "cell_type": "markdown",
   "metadata": {},
   "source": [
    "Um conjunto de dados desbalanceado pode trazer inconsistências para o modelo final.\n",
    "- **Exemplo:** A base de dados do hospital possui 3/4 de amostras saudáveis e apenas 1/4 de amostras doentes."
   ]
  },
  {
   "cell_type": "markdown",
   "metadata": {},
   "source": [
    "### Limpeza de dados"
   ]
  },
  {
   "cell_type": "markdown",
   "metadata": {},
   "source": [
    "Remoção de dados ruidosos, faltantes, inconsistentes e redundantes.\n",
    "- **Exemplo:** Na tabela dos pacientes, um deles não possui o peso."
   ]
  },
  {
   "cell_type": "markdown",
   "metadata": {},
   "source": [
    "### Transformação de dados"
   ]
  },
  {
   "cell_type": "markdown",
   "metadata": {},
   "source": [
    "Os dados nem sempre chegam em um formato próprio para consumo do algoritmo. Assim, é necessário alguns ajustes para sanar esse problema.\n",
    "- **Exemplo:** Transformar dados categóricos para numéricos, discretizar valores, normalização, etc. "
   ]
  },
  {
   "cell_type": "markdown",
   "metadata": {},
   "source": [
    "``` diff\n",
    "- CONTINUA\n",
    "```"
   ]
  },
  {
   "cell_type": "markdown",
   "metadata": {},
   "source": [
    "## Referências"
   ]
  },
  {
   "cell_type": "markdown",
   "metadata": {},
   "source": [
    "- Apresentações de:\n",
    "    - Prof. Dr. André C. P. L. F. Carvalho"
   ]
  }
 ],
 "metadata": {
  "kernelspec": {
   "display_name": "Python 3",
   "language": "python",
   "name": "python3"
  },
  "language_info": {
   "codemirror_mode": {
    "name": "ipython",
    "version": 3
   },
   "file_extension": ".py",
   "mimetype": "text/x-python",
   "name": "python",
   "nbconvert_exporter": "python",
   "pygments_lexer": "ipython3",
   "version": "3.7.3"
  }
 },
 "nbformat": 4,
 "nbformat_minor": 2
}
