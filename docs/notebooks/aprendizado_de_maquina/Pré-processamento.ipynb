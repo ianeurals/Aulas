{
 "cells": [
  {
   "cell_type": "markdown",
   "metadata": {},
   "source": [
    "# Pré-processamento\n",
    "\n",
    "O pré-processamento é um tópico que necessita de ser aprofundado à parte. Mesmo assim, é importante discutir o valor dele no início desse trabalho com o conjunto de dados. \n",
    "\n",
    "Nesse exemplo, temos uma quantidade pequena de registros para uma apresentação, Porém, nem sempre é assim que os cojuntos estão. Muitas vezes é possível ter milhões ou milhares de registros.\n",
    "\n",
    "Com uma quantidade tão imensa de dados, é preciso ter inteligência quando os mesmos forem passados para o treino.\n",
    "\n",
    "Exemplo: O nome e o id de cada paciente de nada influencia o resultado do seu diagnóstico. Assim, os mesmos podem ser ignorados tanto pelo motivo de economizar espaço e ganhar velocidade quanto para não gerar correlações erradas (como descobrir que 90% dos Joãos podem estar doentes, mesmo sabendo que adoecer não tem uma influência direta do nome do paciente).\n",
    "\n",
    "![limpeza](./images/limpeza.png)\n",
    "\n",
    "Outros fatores importantes para o pré-processamento:\n",
    "\n",
    "```diff\n",
    "- COLOCAR DADOS DO SEGUNDO SLIDE \n",
    " dados faltantes\n",
    "```\n"
   ]
  }
 ],
 "metadata": {
  "kernelspec": {
   "display_name": "Python 3",
   "language": "python",
   "name": "python3"
  },
  "language_info": {
   "codemirror_mode": {
    "name": "ipython",
    "version": 3
   },
   "file_extension": ".py",
   "mimetype": "text/x-python",
   "name": "python",
   "nbconvert_exporter": "python",
   "pygments_lexer": "ipython3",
   "version": "3.7.3"
  }
 },
 "nbformat": 4,
 "nbformat_minor": 2
}
