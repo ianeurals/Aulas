{
 "cells": [
  {
   "cell_type": "markdown",
   "metadata": {},
   "source": [
    "# Dados: Conjuntos, caracteristicas e amostras"
   ]
  },
  {
   "cell_type": "markdown",
   "metadata": {},
   "source": [
    "### Conjunto de dados\n",
    "\n",
    "O conjunto de dados são arquivos de qualquer tipo (texto, áudio, vídeo, planilhas, etc) que possuem dados e esses, após uma certa adequação e levantamento de hipóteses, fornecem de alguma maneira uma informação relevante para alcançar um fato.\n",
    "\n",
    "Todos algoritmos de aprendizado de máquina possuem uma entrada de dados específicas, e por vezes um conjunto de dados precisa ser ajustado para se tornarem dados que podem ser consumidos pelos mesmos.\n",
    "A maneira mais comum é tornar esses dados em tabulares (que nada mais é que os transformar em tabelas)."
   ]
  },
  {
   "cell_type": "markdown",
   "metadata": {},
   "source": [
    "Os conjuntos podem diferir entre características, dimensões e formatos:\n",
    "   - Pode ser composto por números o símbolos;\n",
    "   - Pode ou não conter ruídos, erros, inconsistências, duplicações e dados ausentes;\n",
    "   - Pode ter atributos que podem ou não se relacionar;\n",
    "   - Pode ser comprido (muitas colunas, atributos) ou largo (muitas amostras)."
   ]
  },
  {
   "cell_type": "markdown",
   "metadata": {},
   "source": [
    "**Exemplo:** Um conjunto de dados de um hospital.\n",
    "**Meta:** Induzir hipóteses para fazer diagnósticos corretos para novos pacientes"
   ]
  },
  {
   "cell_type": "markdown",
   "metadata": {},
   "source": [
    "![conjunto](./images/conjunto.png)"
   ]
  },
  {
   "cell_type": "markdown",
   "metadata": {},
   "source": [
    "**Colunas:** Cada coluna é uma tupla com as características (também chamados de atributos, campos, variáveis, etc) que descrevem seus objetos."
   ]
  },
  {
   "cell_type": "markdown",
   "metadata": {},
   "source": [
    "![colunas](./images/colunas.png)"
   ]
  },
  {
   "cell_type": "markdown",
   "metadata": {},
   "source": [
    "**Linhas:** Cada linha é refere a um registro (também chamado de objeto, exemplo, etc)."
   ]
  },
  {
   "cell_type": "markdown",
   "metadata": {},
   "source": [
    "![linhas](./images/linhas.png)"
   ]
  },
  {
   "cell_type": "markdown",
   "metadata": {},
   "source": [
    "Aqui, vemos que cada registro é um paciente, composto por diversas caracteristicas que o definem."
   ]
  },
  {
   "cell_type": "markdown",
   "metadata": {},
   "source": [
    "**Atributo de saída:** Presente em algumas tarefas (aprendizado supervisionado), seus valores devem ser estimados usando outros atributos (predizê-los através das caracteristicas de todo conjunto que foi utilizado para treinar a máquina). Também pode ser chamado de meta ou alvo, e cada valor que pode ser atribuído nessa característica recebe o nome de **rótulo** (rótulos do exemplo: saudável ou doente)."
   ]
  },
  {
   "cell_type": "markdown",
   "metadata": {},
   "source": [
    "![saida](./images/saída.png)"
   ]
  }
 ],
 "metadata": {
  "kernelspec": {
   "display_name": "Python 3",
   "language": "python",
   "name": "python3"
  },
  "language_info": {
   "codemirror_mode": {
    "name": "ipython",
    "version": 3
   },
   "file_extension": ".py",
   "mimetype": "text/x-python",
   "name": "python",
   "nbconvert_exporter": "python",
   "pygments_lexer": "ipython3",
   "version": "3.7.3"
  }
 },
 "nbformat": 4,
 "nbformat_minor": 2
}
