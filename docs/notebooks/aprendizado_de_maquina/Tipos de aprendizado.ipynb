{
 "cells": [
  {
   "cell_type": "markdown",
   "metadata": {},
   "source": [
    "# Tarefas de aprendizado"
   ]
  },
  {
   "cell_type": "markdown",
   "metadata": {},
   "source": [
    "Preditivas vs Descritivas"
   ]
  },
  {
   "cell_type": "markdown",
   "metadata": {},
   "source": []
  },
  {
   "cell_type": "markdown",
   "metadata": {},
   "source": [
    "![hierarquia_de_aprendizado](./images/hierarquia_de_aprendizado.png)"
   ]
  },
  {
   "cell_type": "markdown",
   "metadata": {},
   "source": [
    "## Aprendizado supervisionado"
   ]
  },
  {
   "cell_type": "markdown",
   "metadata": {},
   "source": [
    "Conhece a saída desejada para cada exemplo.\n",
    "ex.: x = sintomas e y = diagnóstico.\n",
    "\n",
    "Regressão\n",
    "Rótulos contínuos\n",
    "Ex.: Peso, altura, etc.\n",
    "\n",
    "\n",
    "Classificação\n",
    "Rótulos discretos\n",
    "Ex.: Diagnóstico, bom/mal, pagador, etc."
   ]
  },
  {
   "cell_type": "markdown",
   "metadata": {},
   "source": [
    "### Classificação"
   ]
  },
  {
   "cell_type": "markdown",
   "metadata": {},
   "source": [
    "### Regressão"
   ]
  },
  {
   "cell_type": "markdown",
   "metadata": {},
   "source": [
    "## Aprendizado não supervisionado"
   ]
  },
  {
   "cell_type": "markdown",
   "metadata": {},
   "source": [
    "Algoritmos não fazem uso do atributo de saída.\n",
    "Exploram regularidade nos dados.\n",
    "\n",
    "Sumarização\n",
    "Encontrar descrição compacta para dados.\n",
    "\n",
    "\n",
    "Associação\n",
    "Encontrar padrões frequentes de associações entre atributos.\n",
    "\n",
    "Agrupamento\n",
    "Dados agrupados de acordo com sua similaridade.\n",
    "\n"
   ]
  },
  {
   "cell_type": "markdown",
   "metadata": {},
   "source": [
    "### Sumarização"
   ]
  },
  {
   "cell_type": "markdown",
   "metadata": {},
   "source": [
    "### Associação"
   ]
  },
  {
   "cell_type": "markdown",
   "metadata": {},
   "source": [
    "### Agrupamento"
   ]
  },
  {
   "cell_type": "markdown",
   "metadata": {},
   "source": [
    "## Aprendizado por reforço"
   ]
  },
  {
   "cell_type": "markdown",
   "metadata": {},
   "source": [
    "## Referências"
   ]
  },
  {
   "cell_type": "markdown",
   "metadata": {},
   "source": [
    "- Capítulo 1 do livro Inteligência Artificial: uma abordagem de Aprendizado de Máquina, 2011\n",
    "\n",
    "- Apresentações de:\n",
    "    - Prof. Dr. André C. P. L. F. Carvalho\n",
    "    - Profa. Dra. Ana Carolina Lorena\n",
    "    - Profa. Dra. Solange O. Rezende\n",
    "    - Prof. Dr. Ricardo Campello\n",
    "    - Prof. Dr. Marcilio C. P. Souto\n",
    "    - Prof. Dr. Carlos Soares"
   ]
  }
 ],
 "metadata": {
  "kernelspec": {
   "display_name": "Python 3",
   "language": "python",
   "name": "python3"
  },
  "language_info": {
   "codemirror_mode": {
    "name": "ipython",
    "version": 3
   },
   "file_extension": ".py",
   "mimetype": "text/x-python",
   "name": "python",
   "nbconvert_exporter": "python",
   "pygments_lexer": "ipython3",
   "version": "3.7.3"
  }
 },
 "nbformat": 4,
 "nbformat_minor": 2
}
