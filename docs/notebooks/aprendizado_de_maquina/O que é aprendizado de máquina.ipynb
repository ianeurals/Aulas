{
 "cells": [
  {
   "cell_type": "markdown",
   "metadata": {},
   "source": [
    "# Aprendizado de máquina"
   ]
  },
  {
   "cell_type": "markdown",
   "metadata": {},
   "source": [
    "-   Busca automatizar o processo de aquisição de conhecimento.\n",
    "-   Algumas tarefas são melhor definidas e/ou executadas a partir de exemplos (como reconhecimento facial).\n",
    "-   O ser humano não é capaz de explicar nem programar sua habilidade para executar algumas tarefas (como dirigir ou andar de bicicleta).\n",
    "-   A quantidade de conhecimento disponível pode ser muito grande para ser descrito por humanos (Era do big data).\n",
    "-   Algumas tarefas exigem cálculos complexos, possíveis apenas com computador (busca por correlação)."
   ]
  },
  {
   "cell_type": "markdown",
   "metadata": {},
   "source": [
    "## O que é aprendizado de máquina?\n",
    "\n",
    "O ramo do aprendizado de máquina busca encontrar um reconhecimento de padrões dado uma entrada de dados.\n",
    "É importante levar em conta alguns tópicos nos campos dos estudos de filosofia, neurociência e psicologia para uma compreensão melhor do todo.\n",
    "\n",
    "A definição fornecida por Mitchell diz que:\n",
    ">   “Um programa aprende a partir da experiência **E**, em uma relação a uma classe de tarefas **T**, com medida de desempenho **P**, se seu desempenho em **T**, medido por **P**, melhora com **E**.”"
   ]
  },
  {
   "cell_type": "markdown",
   "metadata": {},
   "source": [
    "**Exemplo:** Filtrar mensagens de e-mail:\n",
    "-   **Tarefa T:** Categorizar mensagens de e-mail como spam ou legítima.\n",
    "-   **Medida de desempenho P:** Porcentagem de mensagens de spam e legítimas corretamente identificadas\n",
    "-   **Experiência E:** Conjunto de e-mails apontados pelo usuário como spams."
   ]
  },
  {
   "cell_type": "markdown",
   "metadata": {},
   "source": [
    "### Tópicos relevantes"
   ]
  },
  {
   "cell_type": "markdown",
   "metadata": {},
   "source": [
    "- **Inteligência:** Algumas literaturas definem inteligência como a capacidade de alguém/algo para compreender e resolver novos problemas, sejam eles:\n",
    "    -   Lógica;\n",
    "    -   Abstração;\n",
    "    -   Memorização;\n",
    "    -   Compreensão;\n",
    "    -   Comunicação;\n",
    "    -   Aprendizado;\n",
    "    -   Resolução de problemas.\n",
    "    \n",
    "    \n",
    "- **Percepção:** Faculdade de apreender por meio dos sentidos ou da mente;\n",
    "- **Cognição:** Processo ou faculdade de adquirir um conhecimento;\n",
    "- **Experiência:** Qualquer conhecimento obtido por meio dos sentidos;\n",
    "- **Aprendizado:** Aprendizado é o processo pelo qual as competências, habilidades ou conhecimentos são adquiridos ou modificados, como resultado de estudo, experiência, raciocínio e observação;\n",
    "- **Treino:** Treino  é a  tentativa de melhorar o desempenho em certas habilidades."
   ]
  },
  {
   "cell_type": "markdown",
   "metadata": {},
   "source": [
    "## Inteligência artificial\n",
    "Abordagens do estudo de inteligência artificial se dividem em 4 categorias:\n",
    "\n",
    "-   Sistemas que pensam como humanos;\n",
    "-   Sistemas que pensam racionalmente;\n",
    "-   Sistemas que agem como humanos;\n",
    "-   Sistemas que agem racionalmente."
   ]
  },
  {
   "cell_type": "markdown",
   "metadata": {},
   "source": [
    "O foco da inteligência artificial é ensinar a máquina a executar tomada de decisões. A seguir, um framework nada científico (que compila alguns científicos e uma tentativa de deixar mais claro os pontos:"
   ]
  },
  {
   "cell_type": "markdown",
   "metadata": {},
   "source": [
    "![framework](./images/framework.png)"
   ]
  },
  {
   "cell_type": "markdown",
   "metadata": {},
   "source": [
    "1. Busca;\n",
    "2. Conhecimento;\n",
    "3. Experiência.\n",
    "\n",
    "\n",
    "-   Busca + Estudo = Mais conhecimento\n",
    "-   Conhecimento + Aprendizagem = Gerar mais experiências\n",
    "-   Experiência + Treino = Facilita novas buscas"
   ]
  },
  {
   "cell_type": "markdown",
   "metadata": {},
   "source": [
    "## Inferência indutiva\n",
    " \n",
    "Um dos principais meios para a aquisição de novos conhecimentos. É o raciocínio para obter conclusões sobre todos os membros de uma classe pelo exame de alguns membros da classe. "
   ]
  },
  {
   "cell_type": "markdown",
   "metadata": {},
   "source": [
    "**Exemplo:**\n",
    ">   1 + 3 + 5 + 7 + 9 + +\t…\t+ (2k-1) + (2k+1) = (k + 1)²\n",
    "\n",
    "-   Testar o Passo Base;\n",
    "-   Assumir uma hipótese de indução;\n",
    "-   Testar o Passo indutivo."
   ]
  },
  {
   "cell_type": "markdown",
   "metadata": {},
   "source": [
    "|-| K |-|\n",
    "|-|-|-|\n",
    "|**PB** | 0   |1 = 1m\n",
    "|**HI** | n   |1 + 3 + … + (2n+1) = (n + 1)²\n",
    "|**PI** | n+1 |1 + 3 + … + (2(n+1)+1) = ((n+1) + 1)²"
   ]
  }
 ],
 "metadata": {
  "kernelspec": {
   "display_name": "Python 3",
   "language": "python",
   "name": "python3"
  },
  "language_info": {
   "codemirror_mode": {
    "name": "ipython",
    "version": 3
   },
   "file_extension": ".py",
   "mimetype": "text/x-python",
   "name": "python",
   "nbconvert_exporter": "python",
   "pygments_lexer": "ipython3",
   "version": "3.7.3"
  }
 },
 "nbformat": 4,
 "nbformat_minor": 2
}
