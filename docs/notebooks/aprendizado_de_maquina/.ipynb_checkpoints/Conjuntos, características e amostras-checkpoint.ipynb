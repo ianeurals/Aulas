{
 "cells": [
  {
   "cell_type": "markdown",
   "metadata": {},
   "source": [
    "# Dados: Conjuntos, caracteristicas e amostras\n",
    "\n",
    "### Conjunto de dados\n",
    "\n",
    "O conjunto de dados é um arquivo de qualquer tipo (texto, áudio, vídeo, planilhas, etc) que possuem dados e esses, após uma certa adequação, levantamento de hipóteses, fornecem de alguma maneira uma informação relevante para alcançar um fato.\n",
    "Todos algoritmos de aprendizado de máquina possuem uma entrada de dados específicas, e por vezes um conjunto de dados precisa ser ajustado para se tornarem dados que podem ser consumidos pelo mesmo.\n",
    "A maneira mais comum é tornar esses dados em tabulares (que nada mais é que os transformar em tabelas). \n",
    "**Exemplo:** Um conjunto de dados de um hospital.\n",
    "**Meta:** Induzir hipóteses para fazer diagnósticos corretos para novos pacientes\n",
    "\n",
    "|Id. \t|Nome \t|Idade \t\t|Sexo\t\t|Peso \t\t|Manchas \t\t|Temp. \t|# Int. \t|Est.\t|Diagnóstico\n",
    "|-|-|-|-|-|-|-|-|-|-|\n",
    "|4201 \t|Igor\t\t|28 \t\t|M \t\t|79 \t\t|Concentradas \t|38.0 \t\t|2 \t|SP \t|Doente\n",
    "|3217 \t|Moutinha\t|18 \t\t|F \t\t|67 \t\t|Inexistentes \t|39.5 \t\t|4\t|MG \t|Doente\n",
    "|4039 \t|Perot\t\t|49 \t\t|M \t\t|92 \t\t|Espalhadas \t|38.0 \t\t|2 \t|RS \t|Saudável\n",
    "|1920 \t|Tonin\t\t|18 \t\t|M \t\t|43 \t\t|Inexistentes \t|38.5\t\t|8 \t|MG \t|Doente\n",
    "|4340 \t|Tuzinha\t|21 \t\t|F \t\t|52 \t\t|Uniformes \t\t|37.6 \t\t|1 \t|PE \t|Saudável\n",
    "|2301 \t|Icara\t\t|22\t\t    |F \t\t|? \t\t    |Inexistentes \t|38.0 \t\t|3 \t|RJ \t|Doente\n",
    "|1322\t|Vitinha\t|19 \t\t|F \t\t|87 \t\t|Espalhadas \t|39.0 \t\t|6\t|AM \t|Doente\n",
    "|3027 \t|Gabriel\t|34\t        |M \t\t|67 \t\t|Uniformes \t\t|38.4 \t\t|2 \t|GO \t|Saudável\n",
    "\n",
    "**Colunas:** Cada coluna é uma tupla com as características (também chamados de atributos, campos, variáveis, etc) que descrevem seus objetos.\n",
    "\n",
    "![colunas](./images/colunas.png)\n",
    "\n",
    "\n",
    "**Linhas:** Cada linha é refere a um registro (também chamado de objeto, exemplo, etc).\n",
    "\n",
    "A linha marcada abaixo possui todas as características do paciente Perot.\n",
    "\n",
    "![linhas](./images/linhas.png)\n",
    "\n",
    "Aqui, vemos que cada registro é um paciente, composto por diversas caracteristicas que o definem.\n",
    "\n",
    "**Atributo de saída:** Presente em algumas tarefas (aprendizado supervisionado), seus valores devem ser estimados usando outros atributos (predizê-los através das caracteristicas de todo conjunto que foi utilizado para treinar a máquina). Também pode ser chamado de meta ou alvo, e cada valor que pode ser atribuído nessa característica recebe o nome de **rótulo** (rótulos do exemplo: saudável ou doente).\n",
    "\n",
    "|Id. \t|Nome \t|Idade \t\t|Sexo\t\t|Peso \t\t|Manchas \t\t|Temp. \t|# Int. \t|Est.\t|<span style= 'background:#5bc0de'>Diagnóstico</span>\n",
    "|-|-|-|-|-|-|-|-|-|-|\n",
    "|4201 \t|Igor\t\t|28 \t\t|M \t\t|79 \t\t|Concentradas \t|38.0 \t\t|2 \t|SP \t|<span style= 'background:#5bc0de'>Doente</span>\n",
    "|3217 \t|Moutinha\t|18 \t\t|F \t\t|67 \t\t|Inexistentes \t|39.5 \t\t|4\t|MG \t|<span style= 'background:#5bc0de'>Doente</span>\n",
    "|4039 \t|Perot\t\t|49 \t\t|M \t\t|92 \t\t|Espalhadas \t|38.0 \t\t|2 \t|RS \t|<span style= 'background:#5bc0de'>Saudável</span>\n",
    "|1920 \t|Tonin\t\t|18 \t\t|M \t\t|43 \t\t|Inexistentes \t|38.5\t\t|8 \t|MG \t|<span style= 'background:#5bc0de'>Doente</span>\n",
    "|4340 \t|Tuzinha\t|21 \t\t|F \t\t|52 \t\t|Uniformes \t\t|37.6 \t\t|1 \t|PE \t|<span style= 'background:#5bc0de'>Saudável</span>\n",
    "|2301 \t|Icara\t\t|22\t\t    |F \t\t|? \t\t    |Inexistentes \t|38.0 \t\t|3 \t|RJ \t|<span style= 'background:#5bc0de'>Doente</span>\n",
    "|1322\t|Vitinha\t|19 \t\t|F \t\t|87 \t\t|Espalhadas \t|39.0 \t\t|6\t|AM \t|<span style= 'background:#5bc0de'>Doente</span>\n",
    "|3027 \t|Gabriel\t|34\t        |M \t\t|67 \t\t|Uniformes \t\t|38.4 \t\t|2 \t|GO \t|<span style= 'background:#5bc0de'>Saudável</span>"
   ]
  }
 ],
 "metadata": {
  "kernelspec": {
   "display_name": "Python 3",
   "language": "python",
   "name": "python3"
  },
  "language_info": {
   "codemirror_mode": {
    "name": "ipython",
    "version": 3
   },
   "file_extension": ".py",
   "mimetype": "text/x-python",
   "name": "python",
   "nbconvert_exporter": "python",
   "pygments_lexer": "ipython3",
   "version": "3.7.3"
  }
 },
 "nbformat": 4,
 "nbformat_minor": 2
}
