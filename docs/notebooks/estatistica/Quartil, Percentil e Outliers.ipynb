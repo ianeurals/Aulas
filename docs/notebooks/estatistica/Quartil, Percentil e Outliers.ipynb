{
 "cells": [
  {
   "cell_type": "markdown",
   "metadata": {},
   "source": [
    "# Quartis, Percentis e Outliers"
   ]
  },
  {
   "cell_type": "markdown",
   "metadata": {},
   "source": [
    "**Antes de definirmos quartis e percentis, é necessário conhecermos o conceito de separatrizes**"
   ]
  },
  {
   "cell_type": "markdown",
   "metadata": {},
   "source": [
    "## Separatrizes"
   ]
  },
  {
   "cell_type": "markdown",
   "metadata": {},
   "source": [
    "**Separatrizes** são valores que dividem a distribuição dos dados em um número de partes iguais. Como exemplo de separatriz, temos a mediana, que distribui os dados em duas partes iguais"
   ]
  },
  {
   "cell_type": "markdown",
   "metadata": {},
   "source": [
    "![DetalheMediana.png](./images/DetalheMediana.png)"
   ]
  },
  {
   "cell_type": "markdown",
   "metadata": {},
   "source": [
    "## Quartis"
   ]
  },
  {
   "cell_type": "markdown",
   "metadata": {},
   "source": [
    "**Sendo assim, quartis são separatrizes que distribuem o conjunto de dados ordenados em 4 partes iguais e portanto 3 quartis**"
   ]
  },
  {
   "cell_type": "markdown",
   "metadata": {},
   "source": [
    "- O **primeiro quartil (Q1) ou quartil inferior** é o valor que delimita os 25% valores menores do conjunto em questão\n",
    "\n",
    "    - (n+1)/4\n",
    "\n",
    "- O **segundo quartil (Q2)** é o valor que delimita os 50% valores menores do conjunto em questão. Aqui vale ressaltar que o Q2 coincide com a mediana, separando o conjunto exatamente na metade\n",
    "\n",
    "    - (n+1)/2\n",
    "\n",
    "- O **terceiro quartil (Q3) ou quartil superior** é o valor que delimita os 75% valores menores do conjunto em questão\n",
    "\n",
    "    - 3*(n+1)/4"
   ]
  },
  {
   "cell_type": "markdown",
   "metadata": {},
   "source": [
    "### Exemplo"
   ]
  },
  {
   "cell_type": "markdown",
   "metadata": {},
   "source": [
    "**Amostra**: { 6, 47, 49, 15, 42, 41, 7, 39, 43, 40, 36 }"
   ]
  },
  {
   "cell_type": "markdown",
   "metadata": {},
   "source": [
    "**Amostra Ordenada**: { 6, 7, 15, 36, 39, 40, 41, 42, 43, 47, 49 }"
   ]
  },
  {
   "cell_type": "markdown",
   "metadata": {},
   "source": [
    "**Quartis**\n",
    "- Q1 = 15\n",
    "- Q2 = 40\n",
    "- Q3 = 43"
   ]
  },
  {
   "cell_type": "markdown",
   "metadata": {},
   "source": [
    "## Percentis"
   ]
  },
  {
   "cell_type": "markdown",
   "metadata": {},
   "source": [
    "**Seguindo a lógica explicada para quartis, os percentis são medidas que dividem a amostra ordenada dos dados em 100 partes**"
   ]
  },
  {
   "cell_type": "markdown",
   "metadata": {},
   "source": [
    "- O primeiro percentil (P1) é equivalente a n/100, onde n é o número de dados da amostra\n",
    "\n",
    "- O segundo percentil (P2) é equivalente a 2n/100, onde n é o número de dados da amostra"
   ]
  },
  {
   "cell_type": "markdown",
   "metadata": {},
   "source": [
    "### Exemplo"
   ]
  },
  {
   "cell_type": "markdown",
   "metadata": {},
   "source": [
    "**Amostra Ordenada:** {43, 54, 56, 61, 62, 66, 68, 69, 69, 70, 71, 72, 77, 78, 79, 85, 87, 88, 89, 93, 95, 96, 98, 99, 99}"
   ]
  },
  {
   "cell_type": "markdown",
   "metadata": {},
   "source": [
    "Para acharmos o 90º percentil, devemos multiplicar por 90% o tamanho da nossa amostra:\n",
    "\n",
    "                  0.9 * 25 = 22.5 => 23.0"
   ]
  },
  {
   "cell_type": "markdown",
   "metadata": {},
   "source": [
    "Procurando o 23º dado na nossa amostra, verificamos que o valor é 98."
   ]
  },
  {
   "cell_type": "markdown",
   "metadata": {},
   "source": [
    "Para acharmos o 20º percentil, devemos multiplicar por 20% o tamanho da nossa amostra:\n",
    "\n",
    "                 0.2 * 25 = 5\n",
    "                 \n",
    "Nesse caso, como o número encontrado não precisou ser arrendondado, encontraremos o percentil somando o 5º e o 6º dados da nossa amostra.\n",
    "\n",
    "                  (62 + 66)/2 = 64"
   ]
  },
  {
   "cell_type": "markdown",
   "metadata": {},
   "source": [
    "## Outliers"
   ]
  },
  {
   "cell_type": "markdown",
   "metadata": {},
   "source": [
    "Um **outlier** é um dado que difere significativamente dos outros dados contidos na amostra. Um outlier pode existir por conta de algum erro no abastecimento dessa amostra de dados e pode indicar eventualmente algum erro experimental. Vale a pena ressaltar que outlier podem causar análises estatísticas deturpadas."
   ]
  },
  {
   "attachments": {},
   "cell_type": "markdown",
   "metadata": {},
   "source": [
    "![what_is_an_outlier.png](./images/what_is_an_outlier.png)"
   ]
  },
  {
   "cell_type": "markdown",
   "metadata": {},
   "source": [
    "## Identificando outlier pela distância interquartil"
   ]
  },
  {
   "cell_type": "markdown",
   "metadata": {},
   "source": [
    "### Distância Interquartil"
   ]
  },
  {
   "cell_type": "markdown",
   "metadata": {},
   "source": [
    "É uma medida estatística de dispersão equivalente à diferença entre o quartil superior e o quartil inferior. Em outras palavras:\n",
    "\n",
    "                            IQR = Q3 - Q1"
   ]
  },
  {
   "cell_type": "markdown",
   "metadata": {},
   "source": [
    "**Uma regra que é utilizada para dizer se um dado da nossa amostra é outlier é verificar se ele é maior que Q3 + 1.5 * IQR ou menor que Q1 - 1.5 * IQR.**"
   ]
  },
  {
   "attachments": {},
   "cell_type": "markdown",
   "metadata": {},
   "source": [
    "![IIQ.png](./images/IIQ.png)"
   ]
  },
  {
   "cell_type": "markdown",
   "metadata": {},
   "source": [
    "### Exemplo"
   ]
  },
  {
   "cell_type": "markdown",
   "metadata": {},
   "source": [
    "A distribuição abaixo mostra as pontuações de 19 aplicações de um teste para motoristas. Quantos outliers nós vemos?"
   ]
  },
  {
   "cell_type": "markdown",
   "metadata": {},
   "source": [
    "![](outliers.png)"
   ]
  },
  {
   "cell_type": "markdown",
   "metadata": {},
   "source": [
    "As 19 aplicações podem ser ordenadas em:\n",
    "\n",
    "{ 5, 7, 10, 15, 19, 21, 21, 22, 22, 23, 23, 23, 23, 23, 24, 24, 24, 24, 25 }"
   ]
  },
  {
   "cell_type": "markdown",
   "metadata": {},
   "source": [
    "**Qual é a mediana?**"
   ]
  },
  {
   "cell_type": "markdown",
   "metadata": {},
   "source": [
    "23"
   ]
  },
  {
   "cell_type": "markdown",
   "metadata": {},
   "source": [
    "**Qual é o primeiro quartil?**"
   ]
  },
  {
   "cell_type": "markdown",
   "metadata": {},
   "source": [
    "19"
   ]
  },
  {
   "cell_type": "markdown",
   "metadata": {},
   "source": [
    "**Qual é o terceiro quartil?**"
   ]
  },
  {
   "cell_type": "markdown",
   "metadata": {},
   "source": [
    "24"
   ]
  },
  {
   "cell_type": "markdown",
   "metadata": {},
   "source": [
    "**Qual é a distância interquartil?**"
   ]
  },
  {
   "cell_type": "markdown",
   "metadata": {},
   "source": [
    "24 - 19 = 5"
   ]
  },
  {
   "cell_type": "markdown",
   "metadata": {},
   "source": [
    "**Calculando 1.5 * IQR**"
   ]
  },
  {
   "cell_type": "markdown",
   "metadata": {},
   "source": [
    "7.5"
   ]
  },
  {
   "cell_type": "markdown",
   "metadata": {},
   "source": [
    "Q1 - 1.5 * IQR = 11.5"
   ]
  },
  {
   "cell_type": "markdown",
   "metadata": {},
   "source": [
    "Q3 + 1.5 * IQR = 35.25"
   ]
  },
  {
   "cell_type": "markdown",
   "metadata": {},
   "source": [
    "**Quantos outliers temos em nossa amostra?**"
   ]
  },
  {
   "cell_type": "markdown",
   "metadata": {},
   "source": [
    "3 (5, 7, 10)"
   ]
  },
  {
   "cell_type": "markdown",
   "metadata": {},
   "source": [
    "### Referências\n",
    "\n",
    "1. https://pt.wikipedia.org/wiki/Quartil\n",
    "2. http://leg.ufpr.br/~shimakur/CE055/node24.html\n",
    "3. https://www.dummies.com/education/math/statistics/how-to-calculate-percentiles-in-statistics/\n",
    "4. https://pt.wikipedia.org/wiki/Percentil\n",
    "5. https://www.khanacademy.org/math/statistics-probability/summarizing-quantitative-data/box-whisker-plots/a/identifying-outliers-iqr-rule\n",
    "6. https://en.wikipedia.org/wiki/Interquartile_range"
   ]
  }
 ],
 "metadata": {
  "kernelspec": {
   "display_name": "Python 3",
   "language": "python",
   "name": "python3"
  },
  "language_info": {
   "codemirror_mode": {
    "name": "ipython",
    "version": 3
   },
   "file_extension": ".py",
   "mimetype": "text/x-python",
   "name": "python",
   "nbconvert_exporter": "python",
   "pygments_lexer": "ipython3",
   "version": "3.7.3"
  }
 },
 "nbformat": 4,
 "nbformat_minor": 4
}
